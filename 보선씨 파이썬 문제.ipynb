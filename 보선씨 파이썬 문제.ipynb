{
 "cells": [
  {
   "cell_type": "markdown",
   "metadata": {},
   "source": [
    "문제1. 1~100000까지 수들중 3의 배수가 아닌 것들의 합을 구해주세요.\n",
    "\n",
    "그리고 이것을 확장하여 1~k까지의 수들중 w의 배수가 아닌 것들의 합을 구하는 함수(함수명 : except_w_sum)를 프로그래밍하세요."
   ]
  },
  {
   "cell_type": "code",
   "execution_count": 10,
   "metadata": {},
   "outputs": [
    {
     "name": "stdout",
     "output_type": "stream",
     "text": [
      "3333366667\n"
     ]
    }
   ],
   "source": [
    "#1~100000까지 수 들 중 3의 배수가 아닌 것들의 합\n",
    "total=0\n",
    "for n in range(100001):\n",
    "    if (n%3 > 0):\n",
    "        total+=n\n",
    "print(total) "
   ]
  },
  {
   "cell_type": "code",
   "execution_count": 9,
   "metadata": {},
   "outputs": [
    {
     "data": {
      "text/plain": [
       "3333366667"
      ]
     },
     "execution_count": 9,
     "metadata": {},
     "output_type": "execute_result"
    }
   ],
   "source": [
    "def except_w_sum(k,w):\n",
    "    b = 0 \n",
    "    for i in range(k+1):        \n",
    "        if(i%w > 0):\n",
    "            b+=i                \n",
    "    return b\n",
    "            \n",
    "except_w_sum(100000,3) "
   ]
  },
  {
   "cell_type": "markdown",
   "metadata": {},
   "source": [
    "문제2.평면에서 두 점 사이의 거리(유클리안 거리)를 구하는 함수(함수명 : Ucli_dist)를 구한 후 A(1,3)와 B(6,9) 사이의 유클리안 거리의 결과값을 출력해주세요.\n",
    "\n",
    "단 루트(root)는 numpy.sqrt를 사용하세요."
   ]
  },
  {
   "cell_type": "code",
   "execution_count": 12,
   "metadata": {},
   "outputs": [
    {
     "data": {
      "text/plain": [
       "7.810249675906654"
      ]
     },
     "execution_count": 12,
     "metadata": {},
     "output_type": "execute_result"
    }
   ],
   "source": [
    "import numpy as np\n",
    "\n",
    "def Ucli_dist(a,b,c,d):\n",
    "    return np.sqrt(((c-a)**2)+((d-b)**2))\n",
    "\n",
    "Ucli_dist(1,3,6,9)"
   ]
  }
 ],
 "metadata": {
  "kernelspec": {
   "display_name": "Python 3",
   "language": "python",
   "name": "python3"
  },
  "language_info": {
   "codemirror_mode": {
    "name": "ipython",
    "version": 3
   },
   "file_extension": ".py",
   "mimetype": "text/x-python",
   "name": "python",
   "nbconvert_exporter": "python",
   "pygments_lexer": "ipython3",
   "version": "3.7.1"
  }
 },
 "nbformat": 4,
 "nbformat_minor": 2
}
